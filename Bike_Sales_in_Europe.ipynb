{
  "nbformat": 4,
  "nbformat_minor": 0,
  "metadata": {
    "colab": {
      "provenance": [],
      "gpuType": "T4",
      "authorship_tag": "ABX9TyN2+1TY7FtCsX3TNxUs2hWJ",
      "include_colab_link": true
    },
    "kernelspec": {
      "name": "python3",
      "display_name": "Python 3"
    },
    "language_info": {
      "name": "python"
    },
    "accelerator": "GPU"
  },
  "cells": [
    {
      "cell_type": "markdown",
      "metadata": {
        "id": "view-in-github",
        "colab_type": "text"
      },
      "source": [
        "<a href=\"https://colab.research.google.com/github/FarhanFansuri/DS-bike-sales-in-europe/blob/main/Bike_Sales_in_Europe.ipynb\" target=\"_parent\"><img src=\"https://colab.research.google.com/assets/colab-badge.svg\" alt=\"Open In Colab\"/></a>"
      ]
    },
    {
      "cell_type": "code",
      "execution_count": 7,
      "metadata": {
        "colab": {
          "base_uri": "https://localhost:8080/"
        },
        "id": "U6oumda6XCDE",
        "outputId": "ddf2be51-11c4-404e-8321-5dfc76605067"
      },
      "outputs": [
        {
          "output_type": "stream",
          "name": "stdout",
          "text": [
            "Day\n",
            "(113036, 18)\n"
          ]
        }
      ],
      "source": [
        "import pandas as pd\n",
        "\n",
        "# Ganti 'nama_file.csv' dengan nama file CSV Anda.\n",
        "df = pd.read_csv('/content/Sales.csv')\n",
        "\n",
        "# Tampilkan beberapa baris pertama dari DataFrame.\n",
        "print(df.columns[1])\n",
        "print(df.shape)"
      ]
    }
  ]
}